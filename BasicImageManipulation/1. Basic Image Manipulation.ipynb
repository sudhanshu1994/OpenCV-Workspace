{
 "cells": [
  {
   "cell_type": "markdown",
   "metadata": {},
   "source": [
    "This file has basic demo of image manipulation methods that can be used for manipulating images.\n",
    "Images have been taken from freeimages.com for demonstration purposes."
   ]
  },
  {
   "cell_type": "code",
   "execution_count": 1,
   "metadata": {},
   "outputs": [],
   "source": [
    "import cv2 # version : 4.1.0\n",
    "import os\n",
    "import numpy as np\n",
    "import matplotlib.pyplot as plt"
   ]
  },
  {
   "cell_type": "markdown",
   "metadata": {},
   "source": [
    "1. Reading specific images from a folder"
   ]
  },
  {
   "cell_type": "code",
   "execution_count": 2,
   "metadata": {},
   "outputs": [
    {
     "name": "stdout",
     "output_type": "stream",
     "text": [
      "image_1_shape= (480, 640, 3)\n",
      "image_2_shape= (480, 640, 3)\n",
      "<class 'numpy.uint8'>\n",
      "<class 'numpy.uint8'>\n"
     ]
    }
   ],
   "source": [
    "# get the current directory containing the images folder\n",
    "root_dir = os.getcwd()\n",
    "image_1_path = root_dir+ \"\\\\\" +  \"images\\\\dragon-fly.jpg\"\n",
    "image_2_path = root_dir + \"\\\\\" + \"images\\\\yellow-flower.jpg\"\n",
    "\n",
    "# load the images\n",
    "image_1 = cv2.imread(image_1_path)\n",
    "image_2 = cv2.imread(image_2_path)\n",
    "\n",
    "# check shapes of the two images\n",
    "print(\"image_1_shape=\",image_1.shape)\n",
    "print(\"image_2_shape=\",image_2.shape)\n",
    "\n",
    "# check data types of nd array of the two images\n",
    "print(type(image_1[0,0,0]))\n",
    "print(type(image_2[0,0,0]))"
   ]
  },
  {
   "cell_type": "markdown",
   "metadata": {},
   "source": [
    "2. Displaying images that have been read "
   ]
  },
  {
   "cell_type": "code",
   "execution_count": 3,
   "metadata": {},
   "outputs": [
    {
     "data": {
      "text/plain": [
       "-1"
      ]
     },
     "execution_count": 3,
     "metadata": {},
     "output_type": "execute_result"
    }
   ],
   "source": [
    "# to display one at a time\n",
    "# cv2.imshow('dragon-fly',image_1)\n",
    "# cv2.waitKey(0)\n",
    "# cv2.imshow('yellow-flower', image_2)\n",
    "# cv2.waitKey(0)\n",
    "\n",
    "# displaying them together\n",
    "horizontal_stack = np.concatenate((image_1, image_2), axis=1)  # use axis = 0 for vertical stacking\n",
    "cv2.imshow('images', horizontal_stack)\n",
    "cv2.waitKey(0)"
   ]
  },
  {
   "cell_type": "markdown",
   "metadata": {},
   "source": [
    "3. Plot histograms of image 1 colors"
   ]
  },
  {
   "cell_type": "code",
   "execution_count": 4,
   "metadata": {},
   "outputs": [
    {
     "name": "stdout",
     "output_type": "stream",
     "text": [
      "(480, 640, 3)\n",
      "(480, 640)\n",
      "(480, 640)\n",
      "(480, 640)\n",
      "(307200,)\n",
      "[ 6  7 11 11  7  5  6  7  7  7]\n"
     ]
    },
    {
     "data": {
      "image/png": "[encoded data removed]",
      "text/plain": [
       "<Figure size 432x288 with 1 Axes>"
      ]
     },
     "metadata": {
      "needs_background": "light"
     },
     "output_type": "display_data"
    }
   ],
   "source": [
    "# get the shape of the image\n",
    "print(image_1.shape)\n",
    "\n",
    "dimension1_1 = image_1[:,:,0]\n",
    "dimension1_2 = image_1[:,:,1]\n",
    "dimension1_3 = image_1[:,:,2]\n",
    "print(dimension1_1.shape)\n",
    "print(dimension1_2.shape)\n",
    "print(dimension1_3.shape)\n",
    "\n",
    "# flatten the image to generate a 1-D array for the histogram generation\n",
    "dimension1_1 = dimension1_1.flatten()\n",
    "\n",
    "print(dimension1_1.shape)   \n",
    "print(dimension1_1[:10])\n",
    "\n",
    "plt.hist(dimension1_1)    # an array of bins can be passed as a additional parameter\n",
    "plt.show()\n",
    "# repeat above two steps for the other dimensions as needed"
   ]
  },
  {
   "cell_type": "markdown",
   "metadata": {},
   "source": [
    "4. Averaging two images : (img1 + img2) / 2 is not equal to img1/ 2 + img2/2 in most cases as the sum can go over 255 directly and get rounded down to 255. Dividing first prevents that from happening:"
   ]
  },
  {
   "cell_type": "code",
   "execution_count": 5,
   "metadata": {},
   "outputs": [
    {
     "name": "stdout",
     "output_type": "stream",
     "text": [
      "(480, 640, 3)\n",
      "(480, 640, 3)\n"
     ]
    },
    {
     "data": {
      "text/plain": [
       "-1"
      ]
     },
     "execution_count": 5,
     "metadata": {},
     "output_type": "execute_result"
    }
   ],
   "source": [
    "new_image_1 = (np.add(image_1, image_2))//2\n",
    "new_image_2 = np.add(image_1//2 , image_2//2)\n",
    "\n",
    "print(new_image_1.shape)\n",
    "print(new_image_2.shape)\n",
    "\n",
    "cv2.imshow('adding first', new_image_1)\n",
    "cv2.waitKey(0)\n",
    "cv2.imshow('dividing first', new_image_2)\n",
    "cv2.waitKey(0)"
   ]
  }
 ],
 "metadata": {
  "kernelspec": {
   "display_name": "Python 3",
   "language": "python",
   "name": "python3"
  },
  "language_info": {
   "codemirror_mode": {
    "name": "ipython",
    "version": 3
   },
   "file_extension": ".py",
   "mimetype": "text/x-python",
   "name": "python",
   "nbconvert_exporter": "python",
   "pygments_lexer": "ipython3",
   "version": "3.7.5"
  }
 },
 "nbformat": 4,
 "nbformat_minor": 2
}
